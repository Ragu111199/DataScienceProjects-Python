{
  "nbformat": 4,
  "nbformat_minor": 0,
  "metadata": {
    "colab": {
      "name": "Exploring data.ipynb",
      "provenance": [],
      "toc_visible": true,
      "authorship_tag": "ABX9TyO9acFKSL2IF+V3g2Of3O3e",
      "include_colab_link": true
    },
    "kernelspec": {
      "name": "python3",
      "display_name": "Python 3"
    }
  },
  "cells": [
    {
      "cell_type": "markdown",
      "metadata": {
        "id": "view-in-github",
        "colab_type": "text"
      },
      "source": [
        "<a href=\"https://colab.research.google.com/github/Ragu111199/DataScienceProjects-Python/blob/main/Exploring_data.ipynb\" target=\"_parent\"><img src=\"https://colab.research.google.com/assets/colab-badge.svg\" alt=\"Open In Colab\"/></a>"
      ]
    },
    {
      "cell_type": "markdown",
      "metadata": {
        "id": "ut-OehiWu09g"
      },
      "source": [
        "#Exploring data using Pandas\n",
        "\n",
        "To download the data from the fivethirtyeight.com"
      ]
    },
    {
      "cell_type": "code",
      "metadata": {
        "id": "076jZ3lvvMZA"
      },
      "source": [
        "import requests\n",
        "\n",
        "download_url = \"https://raw.githubusercontent.com/fivethirtyeight/data/master/nba-elo/nbaallelo.csv\"\n",
        "target_csv_path = \"nba_all_elo.csv\"\n",
        "\n",
        "response = requests.get(download_url)\n",
        "response.raise_for_status()    # Check that the request was successful\n",
        "with open(target_csv_path, \"wb\") as f:\n",
        "    f.write(response.content)\n",
        "print(\"Download ready.\")\n"
      ],
      "execution_count": null,
      "outputs": []
    },
    {
      "cell_type": "markdown",
      "metadata": {
        "id": "xF8kj91Bw1qp"
      },
      "source": [
        " **To import the data and check that type**"
      ]
    },
    {
      "cell_type": "code",
      "metadata": {
        "id": "_2WE85a0xHWL"
      },
      "source": [
        "import pandas as pd \n",
        "nba = pd.read_csv(\"nba_all_elo.csv\")\n",
        "type(nba)"
      ],
      "execution_count": null,
      "outputs": []
    },
    {
      "cell_type": "markdown",
      "metadata": {
        "id": "8cgh-1eeyIdt"
      },
      "source": [
        "**To know datatype of each column of the dataset - dataframe.info()**"
      ]
    },
    {
      "cell_type": "code",
      "metadata": {
        "id": "_6BYOs_syYBV"
      },
      "source": [
        "nba.info()"
      ],
      "execution_count": null,
      "outputs": []
    },
    {
      "cell_type": "markdown",
      "metadata": {
        "id": "LB6o51wSyxfw"
      },
      "source": [
        "**To know statistics metrics**"
      ]
    },
    {
      "cell_type": "code",
      "metadata": {
        "id": "kSnHdiPxza69"
      },
      "source": [
        "nba.describe()"
      ],
      "execution_count": null,
      "outputs": []
    },
    {
      "cell_type": "markdown",
      "metadata": {
        "id": "VikgeUMpzoFU"
      },
      "source": [
        "**To display first five rows**"
      ]
    },
    {
      "cell_type": "code",
      "metadata": {
        "id": "0Dn9TDKTz3yP"
      },
      "source": [
        "nba.head()"
      ],
      "execution_count": null,
      "outputs": []
    },
    {
      "cell_type": "markdown",
      "metadata": {
        "id": "f6KAVZB30C7B"
      },
      "source": [
        "**To display last five rows**"
      ]
    },
    {
      "cell_type": "code",
      "metadata": {
        "id": "hHKuTzm90J26",
        "outputId": "a107dc75-8308-4e5b-f874-9ad6e82405c2",
        "colab": {
          "base_uri": "https://localhost:8080/",
          "height": 224
        }
      },
      "source": [
        "nba.tail()"
      ],
      "execution_count": 7,
      "outputs": [
        {
          "output_type": "execute_result",
          "data": {
            "text/html": [
              "<div>\n",
              "<style scoped>\n",
              "    .dataframe tbody tr th:only-of-type {\n",
              "        vertical-align: middle;\n",
              "    }\n",
              "\n",
              "    .dataframe tbody tr th {\n",
              "        vertical-align: top;\n",
              "    }\n",
              "\n",
              "    .dataframe thead th {\n",
              "        text-align: right;\n",
              "    }\n",
              "</style>\n",
              "<table border=\"1\" class=\"dataframe\">\n",
              "  <thead>\n",
              "    <tr style=\"text-align: right;\">\n",
              "      <th></th>\n",
              "      <th>gameorder</th>\n",
              "      <th>game_id</th>\n",
              "      <th>lg_id</th>\n",
              "      <th>_iscopy</th>\n",
              "      <th>year_id</th>\n",
              "      <th>date_game</th>\n",
              "      <th>seasongame</th>\n",
              "      <th>is_playoffs</th>\n",
              "      <th>team_id</th>\n",
              "      <th>fran_id</th>\n",
              "      <th>pts</th>\n",
              "      <th>elo_i</th>\n",
              "      <th>elo_n</th>\n",
              "      <th>win_equiv</th>\n",
              "      <th>opp_id</th>\n",
              "      <th>opp_fran</th>\n",
              "      <th>opp_pts</th>\n",
              "      <th>opp_elo_i</th>\n",
              "      <th>opp_elo_n</th>\n",
              "      <th>game_location</th>\n",
              "      <th>game_result</th>\n",
              "      <th>forecast</th>\n",
              "      <th>notes</th>\n",
              "    </tr>\n",
              "  </thead>\n",
              "  <tbody>\n",
              "    <tr>\n",
              "      <th>126309</th>\n",
              "      <td>63155</td>\n",
              "      <td>201506110CLE</td>\n",
              "      <td>NBA</td>\n",
              "      <td>0</td>\n",
              "      <td>2015</td>\n",
              "      <td>6/11/2015</td>\n",
              "      <td>100</td>\n",
              "      <td>1</td>\n",
              "      <td>CLE</td>\n",
              "      <td>Cavaliers</td>\n",
              "      <td>82</td>\n",
              "      <td>1723.4149</td>\n",
              "      <td>1704.3949</td>\n",
              "      <td>60.309792</td>\n",
              "      <td>GSW</td>\n",
              "      <td>Warriors</td>\n",
              "      <td>103</td>\n",
              "      <td>1790.9591</td>\n",
              "      <td>1809.9791</td>\n",
              "      <td>H</td>\n",
              "      <td>L</td>\n",
              "      <td>0.546572</td>\n",
              "      <td>NaN</td>\n",
              "    </tr>\n",
              "    <tr>\n",
              "      <th>126310</th>\n",
              "      <td>63156</td>\n",
              "      <td>201506140GSW</td>\n",
              "      <td>NBA</td>\n",
              "      <td>0</td>\n",
              "      <td>2015</td>\n",
              "      <td>6/14/2015</td>\n",
              "      <td>102</td>\n",
              "      <td>1</td>\n",
              "      <td>GSW</td>\n",
              "      <td>Warriors</td>\n",
              "      <td>104</td>\n",
              "      <td>1809.9791</td>\n",
              "      <td>1813.6349</td>\n",
              "      <td>68.013329</td>\n",
              "      <td>CLE</td>\n",
              "      <td>Cavaliers</td>\n",
              "      <td>91</td>\n",
              "      <td>1704.3949</td>\n",
              "      <td>1700.7391</td>\n",
              "      <td>H</td>\n",
              "      <td>W</td>\n",
              "      <td>0.765565</td>\n",
              "      <td>NaN</td>\n",
              "    </tr>\n",
              "    <tr>\n",
              "      <th>126311</th>\n",
              "      <td>63156</td>\n",
              "      <td>201506140GSW</td>\n",
              "      <td>NBA</td>\n",
              "      <td>1</td>\n",
              "      <td>2015</td>\n",
              "      <td>6/14/2015</td>\n",
              "      <td>101</td>\n",
              "      <td>1</td>\n",
              "      <td>CLE</td>\n",
              "      <td>Cavaliers</td>\n",
              "      <td>91</td>\n",
              "      <td>1704.3949</td>\n",
              "      <td>1700.7391</td>\n",
              "      <td>60.010067</td>\n",
              "      <td>GSW</td>\n",
              "      <td>Warriors</td>\n",
              "      <td>104</td>\n",
              "      <td>1809.9791</td>\n",
              "      <td>1813.6349</td>\n",
              "      <td>A</td>\n",
              "      <td>L</td>\n",
              "      <td>0.234435</td>\n",
              "      <td>NaN</td>\n",
              "    </tr>\n",
              "    <tr>\n",
              "      <th>126312</th>\n",
              "      <td>63157</td>\n",
              "      <td>201506170CLE</td>\n",
              "      <td>NBA</td>\n",
              "      <td>0</td>\n",
              "      <td>2015</td>\n",
              "      <td>6/16/2015</td>\n",
              "      <td>102</td>\n",
              "      <td>1</td>\n",
              "      <td>CLE</td>\n",
              "      <td>Cavaliers</td>\n",
              "      <td>97</td>\n",
              "      <td>1700.7391</td>\n",
              "      <td>1692.0859</td>\n",
              "      <td>59.290245</td>\n",
              "      <td>GSW</td>\n",
              "      <td>Warriors</td>\n",
              "      <td>105</td>\n",
              "      <td>1813.6349</td>\n",
              "      <td>1822.2881</td>\n",
              "      <td>H</td>\n",
              "      <td>L</td>\n",
              "      <td>0.481450</td>\n",
              "      <td>NaN</td>\n",
              "    </tr>\n",
              "    <tr>\n",
              "      <th>126313</th>\n",
              "      <td>63157</td>\n",
              "      <td>201506170CLE</td>\n",
              "      <td>NBA</td>\n",
              "      <td>1</td>\n",
              "      <td>2015</td>\n",
              "      <td>6/16/2015</td>\n",
              "      <td>103</td>\n",
              "      <td>1</td>\n",
              "      <td>GSW</td>\n",
              "      <td>Warriors</td>\n",
              "      <td>105</td>\n",
              "      <td>1813.6349</td>\n",
              "      <td>1822.2881</td>\n",
              "      <td>68.519516</td>\n",
              "      <td>CLE</td>\n",
              "      <td>Cavaliers</td>\n",
              "      <td>97</td>\n",
              "      <td>1700.7391</td>\n",
              "      <td>1692.0859</td>\n",
              "      <td>A</td>\n",
              "      <td>W</td>\n",
              "      <td>0.518550</td>\n",
              "      <td>NaN</td>\n",
              "    </tr>\n",
              "  </tbody>\n",
              "</table>\n",
              "</div>"
            ],
            "text/plain": [
              "        gameorder       game_id lg_id  ...  game_result  forecast notes\n",
              "126309      63155  201506110CLE   NBA  ...            L  0.546572   NaN\n",
              "126310      63156  201506140GSW   NBA  ...            W  0.765565   NaN\n",
              "126311      63156  201506140GSW   NBA  ...            L  0.234435   NaN\n",
              "126312      63157  201506170CLE   NBA  ...            L  0.481450   NaN\n",
              "126313      63157  201506170CLE   NBA  ...            W  0.518550   NaN\n",
              "\n",
              "[5 rows x 23 columns]"
            ]
          },
          "metadata": {
            "tags": []
          },
          "execution_count": 7
        }
      ]
    },
    {
      "cell_type": "markdown",
      "metadata": {
        "id": "rtW6FcKj0SPv"
      },
      "source": [
        "**To know number of rows and columns**"
      ]
    },
    {
      "cell_type": "code",
      "metadata": {
        "id": "TSluW6Tu0kfB"
      },
      "source": [
        "len(nba) # to count number of rows\n",
        "nba.shape# to return a tuple that contains number of rows and columns in the data set"
      ],
      "execution_count": null,
      "outputs": []
    },
    {
      "cell_type": "markdown",
      "metadata": {
        "id": "3UJZrGCL1UJ-"
      },
      "source": [
        "**Pandas datatypes**\n",
        "### 1. Series\n",
        "### 2. Dataframe\n"
      ]
    },
    {
      "cell_type": "markdown",
      "metadata": {
        "id": "IQyCEIaO3eh9"
      },
      "source": [
        "**To know about Pandas Series**\n",
        "### it contains two components\n",
        "#### 1. A sequence of values\n",
        "#### 2. A sequence of identifiers(indices)"
      ]
    },
    {
      "cell_type": "markdown",
      "metadata": {
        "id": "IIFVK4v44d6N"
      },
      "source": [
        "**Example for creating pandas series object and know how to access them**"
      ]
    },
    {
      "cell_type": "code",
      "metadata": {
        "id": "8fTojpgm3K3Z",
        "outputId": "f26b1018-abe0-414e-df5b-f2beba540dd9",
        "colab": {
          "base_uri": "https://localhost:8080/"
        }
      },
      "source": [
        " S = pd.Series([20,30,40]) # to create the pandas series\n",
        " print(S.values) # to display all  values\n",
        " print(S.index) # to display default indices for the series S\n",
        " print(type(S))# to disply the type of the array of series"
      ],
      "execution_count": 14,
      "outputs": [
        {
          "output_type": "stream",
          "text": [
            "[20 30 40]\n",
            "RangeIndex(start=0, stop=3, step=1)\n",
            "<class 'pandas.core.series.Series'>\n"
          ],
          "name": "stdout"
        }
      ]
    },
    {
      "cell_type": "markdown",
      "metadata": {
        "id": "nboLewrT6N6F"
      },
      "source": [
        "**Pandas series with user defined index**\n"
      ]
    },
    {
      "cell_type": "code",
      "metadata": {
        "id": "Hu2_iSfP6ap6",
        "outputId": "62298675-b7fd-49fe-80a7-26a5b78b44c0",
        "colab": {
          "base_uri": "https://localhost:8080/"
        }
      },
      "source": [
        "S2 = pd.Series([1,2,3],index=[\"ramu\",\"somu\",\"mamu\"]) # to create pandas series using user defined index\n",
        "print(S2.index) # to display index\n",
        "print(S2.keys()) # to display index"
      ],
      "execution_count": 22,
      "outputs": [
        {
          "output_type": "stream",
          "text": [
            "Index(['ramu', 'somu', 'mamu'], dtype='object')\n",
            "Index(['ramu', 'somu', 'mamu'], dtype='object')\n"
          ],
          "name": "stdout"
        }
      ]
    },
    {
      "cell_type": "markdown",
      "metadata": {
        "id": "WOEDinBA7vaP"
      },
      "source": [
        "**Pandas series using Dictionary**"
      ]
    },
    {
      "cell_type": "code",
      "metadata": {
        "id": "czbm9PS075xb",
        "outputId": "6b24782b-7913-4ab1-f5bf-d7ac60f31f53",
        "colab": {
          "base_uri": "https://localhost:8080/"
        }
      },
      "source": [
        "S3 = pd.Series({\"ramu\":1,\"somu\":2,\"mamu\":3})\n",
        "print(S3.values) # To display value in type of array\n",
        "print(S3.keys())# to display all the keys of dictionary"
      ],
      "execution_count": 27,
      "outputs": [
        {
          "output_type": "stream",
          "text": [
            "[1 2 3]\n",
            "Index(['ramu', 'somu', 'mamu'], dtype='object')\n"
          ],
          "name": "stdout"
        }
      ]
    },
    {
      "cell_type": "markdown",
      "metadata": {
        "id": "9lJxrekp_E4w"
      },
      "source": [
        "**pandas Series Accessing elements**\n",
        "## 1.Using index operator []\n",
        "#####  1.**A positional or implicit index**, which is always a RangeIndex\n",
        "2.**A label or explicit index**, which can contain any hashable objects \n",
        "\n"
      ]
    },
    {
      "cell_type": "code",
      "metadata": {
        "id": "eI9xQExhAEuf"
      },
      "source": [
        "print(S3[1]) # give output as python array\n",
        "print(S3[\"ramu\"])# give output as python dictionary"
      ],
      "execution_count": null,
      "outputs": []
    },
    {
      "cell_type": "markdown",
      "metadata": {
        "id": "FItHQM7UAjbx"
      },
      "source": [
        "**2.Using Accessing methods**\n",
        "####1.  **.loc** refers to the label index.\n",
        "####2. **.iloc** refers to the positional index.\n",
        "![iloc_vs_loc_80_border20.webp](data:image/webp;base64,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)\n",
        "\n"
      ]
    },
    {
      "cell_type": "code",
      "metadata": {
        "id": "CPdknypmCR0K",
        "outputId": "432a4126-9289-46b6-de30-b05ae8820dc0",
        "colab": {
          "base_uri": "https://localhost:8080/"
        }
      },
      "source": [
        "S3.loc[\"ramu\"] # this method uses label index"
      ],
      "execution_count": 34,
      "outputs": [
        {
          "output_type": "execute_result",
          "data": {
            "text/plain": [
              "1"
            ]
          },
          "metadata": {
            "tags": []
          },
          "execution_count": 34
        }
      ]
    },
    {
      "cell_type": "code",
      "metadata": {
        "id": "nHCHr371BEOv",
        "outputId": "ef0f4a4e-6fc9-4927-968e-9f5d27fa2a6b",
        "colab": {
          "base_uri": "https://localhost:8080/"
        }
      },
      "source": [
        "S3.iloc[-1] # this method uses positional index"
      ],
      "execution_count": 35,
      "outputs": [
        {
          "output_type": "execute_result",
          "data": {
            "text/plain": [
              "3"
            ]
          },
          "metadata": {
            "tags": []
          },
          "execution_count": 35
        }
      ]
    },
    {
      "cell_type": "markdown",
      "metadata": {
        "id": "ZX9vqhMaCxCS"
      },
      "source": [
        "**To find the keys of nba dataset**"
      ]
    },
    {
      "cell_type": "code",
      "metadata": {
        "id": "MkLe_QpEFiFN",
        "outputId": "8b4029b6-7a9c-4f21-e2d4-a43ccdf668f2",
        "colab": {
          "base_uri": "https://localhost:8080/"
        }
      },
      "source": [
        "nba.keys()"
      ],
      "execution_count": 39,
      "outputs": [
        {
          "output_type": "execute_result",
          "data": {
            "text/plain": [
              "Index(['gameorder', 'game_id', 'lg_id', '_iscopy', 'year_id', 'date_game',\n",
              "       'seasongame', 'is_playoffs', 'team_id', 'fran_id', 'pts', 'elo_i',\n",
              "       'elo_n', 'win_equiv', 'opp_id', 'opp_fran', 'opp_pts', 'opp_elo_i',\n",
              "       'opp_elo_n', 'game_location', 'game_result', 'forecast', 'notes'],\n",
              "      dtype='object')"
            ]
          },
          "metadata": {
            "tags": []
          },
          "execution_count": 39
        }
      ]
    },
    {
      "cell_type": "markdown",
      "metadata": {
        "id": "DJ4IynQnF20I"
      },
      "source": [
        "**To find the axes of nba**"
      ]
    },
    {
      "cell_type": "code",
      "metadata": {
        "id": "xKSpUZVUF_yl",
        "outputId": "250be1a6-690a-4a40-f591-3a1c6920d5d2",
        "colab": {
          "base_uri": "https://localhost:8080/"
        }
      },
      "source": [
        "nba.axes"
      ],
      "execution_count": 38,
      "outputs": [
        {
          "output_type": "execute_result",
          "data": {
            "text/plain": [
              "[RangeIndex(start=0, stop=126314, step=1),\n",
              " Index(['gameorder', 'game_id', 'lg_id', '_iscopy', 'year_id', 'date_game',\n",
              "        'seasongame', 'is_playoffs', 'team_id', 'fran_id', 'pts', 'elo_i',\n",
              "        'elo_n', 'win_equiv', 'opp_id', 'opp_fran', 'opp_pts', 'opp_elo_i',\n",
              "        'opp_elo_n', 'game_location', 'game_result', 'forecast', 'notes'],\n",
              "       dtype='object')]"
            ]
          },
          "metadata": {
            "tags": []
          },
          "execution_count": 38
        }
      ]
    },
    {
      "cell_type": "markdown",
      "metadata": {
        "id": "VBL1y1VlGJqU"
      },
      "source": [
        "**To access wanted columns**"
      ]
    },
    {
      "cell_type": "code",
      "metadata": {
        "id": "zqLLhcxzGXt1"
      },
      "source": [
        "nba.loc[1:25,[\"gameorder\",\"notes\"]] # to select the  wanted rows and columns"
      ],
      "execution_count": null,
      "outputs": []
    },
    {
      "cell_type": "markdown",
      "metadata": {
        "id": "yrn7DnLROPIS"
      },
      "source": [
        "**Querying dataset for valid reason**\n",
        "####We can use .str to find the team IDs that start with \"LA\", and you can assume that such an unusual game would have some notes:"
      ]
    },
    {
      "cell_type": "code",
      "metadata": {
        "id": "-_XUD3x3OXv5",
        "outputId": "a8153081-be5b-44f6-90dc-eef4f21c0fa7",
        "colab": {
          "base_uri": "https://localhost:8080/",
          "height": 233
        }
      },
      "source": [
        "nba[\n",
        "    (nba[\"_iscopy\"] == 0) &\n",
        "     (nba[\"team_id\"].str.startswith(\"LA\")) &\n",
        "     (nba[\"year_id\"]==1992) &\n",
        "     (nba[\"notes\"].notnull())\n",
        " ]"
      ],
      "execution_count": 64,
      "outputs": [
        {
          "output_type": "execute_result",
          "data": {
            "text/html": [
              "<div>\n",
              "<style scoped>\n",
              "    .dataframe tbody tr th:only-of-type {\n",
              "        vertical-align: middle;\n",
              "    }\n",
              "\n",
              "    .dataframe tbody tr th {\n",
              "        vertical-align: top;\n",
              "    }\n",
              "\n",
              "    .dataframe thead th {\n",
              "        text-align: right;\n",
              "    }\n",
              "</style>\n",
              "<table border=\"1\" class=\"dataframe\">\n",
              "  <thead>\n",
              "    <tr style=\"text-align: right;\">\n",
              "      <th></th>\n",
              "      <th>gameorder</th>\n",
              "      <th>game_id</th>\n",
              "      <th>lg_id</th>\n",
              "      <th>_iscopy</th>\n",
              "      <th>year_id</th>\n",
              "      <th>date_game</th>\n",
              "      <th>seasongame</th>\n",
              "      <th>is_playoffs</th>\n",
              "      <th>team_id</th>\n",
              "      <th>fran_id</th>\n",
              "      <th>pts</th>\n",
              "      <th>elo_i</th>\n",
              "      <th>elo_n</th>\n",
              "      <th>win_equiv</th>\n",
              "      <th>opp_id</th>\n",
              "      <th>opp_fran</th>\n",
              "      <th>opp_pts</th>\n",
              "      <th>opp_elo_i</th>\n",
              "      <th>opp_elo_n</th>\n",
              "      <th>game_location</th>\n",
              "      <th>game_result</th>\n",
              "      <th>forecast</th>\n",
              "      <th>notes</th>\n",
              "    </tr>\n",
              "  </thead>\n",
              "  <tbody>\n",
              "    <tr>\n",
              "      <th>68901</th>\n",
              "      <td>34451</td>\n",
              "      <td>199205030LAC</td>\n",
              "      <td>NBA</td>\n",
              "      <td>0</td>\n",
              "      <td>1992</td>\n",
              "      <td>5/3/1992</td>\n",
              "      <td>86</td>\n",
              "      <td>1</td>\n",
              "      <td>LAC</td>\n",
              "      <td>Clippers</td>\n",
              "      <td>115</td>\n",
              "      <td>1546.9009</td>\n",
              "      <td>1556.0005</td>\n",
              "      <td>47.888252</td>\n",
              "      <td>UTA</td>\n",
              "      <td>Jazz</td>\n",
              "      <td>107</td>\n",
              "      <td>1647.5092</td>\n",
              "      <td>1638.4095</td>\n",
              "      <td>H</td>\n",
              "      <td>W</td>\n",
              "      <td>0.499125</td>\n",
              "      <td>at Anaheim, CA (Anaheim Convention Center)</td>\n",
              "    </tr>\n",
              "    <tr>\n",
              "      <th>68903</th>\n",
              "      <td>34452</td>\n",
              "      <td>199205030LAL</td>\n",
              "      <td>NBA</td>\n",
              "      <td>0</td>\n",
              "      <td>1992</td>\n",
              "      <td>5/3/1992</td>\n",
              "      <td>86</td>\n",
              "      <td>1</td>\n",
              "      <td>LAL</td>\n",
              "      <td>Lakers</td>\n",
              "      <td>76</td>\n",
              "      <td>1489.6460</td>\n",
              "      <td>1474.3994</td>\n",
              "      <td>39.395412</td>\n",
              "      <td>POR</td>\n",
              "      <td>Trailblazers</td>\n",
              "      <td>102</td>\n",
              "      <td>1655.1210</td>\n",
              "      <td>1670.3677</td>\n",
              "      <td>H</td>\n",
              "      <td>L</td>\n",
              "      <td>0.406874</td>\n",
              "      <td>at Las Vegas, NV</td>\n",
              "    </tr>\n",
              "  </tbody>\n",
              "</table>\n",
              "</div>"
            ],
            "text/plain": [
              "       gameorder  ...                                       notes\n",
              "68901      34451  ...  at Anaheim, CA (Anaheim Convention Center)\n",
              "68903      34452  ...                            at Las Vegas, NV\n",
              "\n",
              "[2 rows x 23 columns]"
            ]
          },
          "metadata": {
            "tags": []
          },
          "execution_count": 64
        }
      ]
    },
    {
      "cell_type": "markdown",
      "metadata": {
        "id": "HRpCieiQQI7N"
      },
      "source": [
        "**Grouping and Aggregating**"
      ]
    },
    {
      "cell_type": "markdown",
      "metadata": {
        "id": "mUeKQ72pPApB"
      },
      "source": [
        "**methods/functions**\n",
        "### 1. .groupby([list of columnname],sort=False).\n",
        "### 2. aggregation methods(sum,count,etc..)"
      ]
    },
    {
      "cell_type": "code",
      "metadata": {
        "id": "eoNl9HaxAiSt"
      },
      "source": [
        ""
      ],
      "execution_count": null,
      "outputs": []
    }
  ]
}