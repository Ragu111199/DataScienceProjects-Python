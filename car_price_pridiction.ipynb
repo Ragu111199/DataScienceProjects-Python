{
  "nbformat": 4,
  "nbformat_minor": 0,
  "metadata": {
    "colab": {
      "name": " car_price_pridiction.ipynb",
      "provenance": [],
      "toc_visible": true,
      "authorship_tag": "ABX9TyMzL2WeC0NxkH44ANq4q9Ic",
      "include_colab_link": true
    },
    "kernelspec": {
      "name": "python3",
      "display_name": "Python 3"
    }
  },
  "cells": [
    {
      "cell_type": "markdown",
      "metadata": {
        "id": "view-in-github",
        "colab_type": "text"
      },
      "source": [
        "<a href=\"https://colab.research.google.com/github/Ragu111199/DataScienceProjects-Python/blob/main/car_price_pridiction.ipynb\" target=\"_parent\"><img src=\"https://colab.research.google.com/assets/colab-badge.svg\" alt=\"Open In Colab\"/></a>"
      ]
    },
    {
      "cell_type": "markdown",
      "metadata": {
        "id": "yrK1WkR0OdRw"
      },
      "source": [
        "# **CAR PRICE PRICE PRIDICTION**"
      ]
    },
    {
      "cell_type": "markdown",
      "metadata": {
        "id": "CqUDTv9zRD9b"
      },
      "source": [
        "###**PROCESS FLOW**"
      ]
    },
    {
      "cell_type": "markdown",
      "metadata": {
        "id": "CVhIMcgJR0M_"
      },
      "source": [
        " #### 1. Data gathering/ collection\n",
        "\n",
        " this data is collected from https://www.kaggle.com/goyalshalini93/car-data?select=CarPrice_Assignment.csv"
      ]
    },
    {
      "cell_type": "markdown",
      "metadata": {
        "id": "h-klS5MqSkjH"
      },
      "source": [
        "#### 2. Data Preprocessing\n",
        "####   2.1  read the dataset using pandas"
      ]
    },
    {
      "cell_type": "code",
      "metadata": {
        "id": "gbI_7bVPRxzO"
      },
      "source": [
        "import pandas as pd\n",
        "car_data = pd.read_csv(\"/content/sample_data/CarPrice_Assignment.csv\")\n",
        "car_data.head()"
      ],
      "execution_count": null,
      "outputs": []
    },
    {
      "cell_type": "markdown",
      "metadata": {
        "id": "kWExdLdqT-UO"
      },
      "source": [
        "####know about the dataset"
      ]
    },
    {
      "cell_type": "code",
      "metadata": {
        "id": "3ij8vALuUJ-P"
      },
      "source": [
        "car_data.info()"
      ],
      "execution_count": null,
      "outputs": []
    },
    {
      "cell_type": "markdown",
      "metadata": {
        "id": "02wli9QUUaZh"
      },
      "source": [
        "#### 3.Finding missing value and handle"
      ]
    },
    {
      "cell_type": "code",
      "metadata": {
        "id": "zKNjagXeUxvX"
      },
      "source": [
        "car_data.isna().sum()"
      ],
      "execution_count": null,
      "outputs": []
    },
    {
      "cell_type": "markdown",
      "metadata": {
        "id": "Y2lI2dbNU7jQ"
      },
      "source": [
        "there is no missing values in the dataset. so we move to divide the dataset"
      ]
    },
    {
      "cell_type": "markdown",
      "metadata": {
        "id": "WzLZOQC9VLLo"
      },
      "source": [
        "#### 4.dividing the dataset into Dependent Variable and Independent Variable"
      ]
    },
    {
      "cell_type": "markdown",
      "metadata": {
        "id": "9s3YIZWJWxCn"
      },
      "source": [
        "to find X,Y print the columns"
      ]
    },
    {
      "cell_type": "code",
      "metadata": {
        "id": "R_UFH5KJVnO0",
        "outputId": "b4380e6c-900a-4d09-b455-1f198f29a93e",
        "colab": {
          "base_uri": "https://localhost:8080/"
        }
      },
      "source": [
        "car_data.columns"
      ],
      "execution_count": null,
      "outputs": [
        {
          "output_type": "execute_result",
          "data": {
            "text/plain": [
              "Index(['car_ID', 'symboling', 'CarName', 'fueltype', 'aspiration',\n",
              "       'doornumber', 'carbody', 'drivewheel', 'enginelocation', 'wheelbase',\n",
              "       'carlength', 'carwidth', 'carheight', 'curbweight', 'enginetype',\n",
              "       'cylindernumber', 'enginesize', 'fuelsystem', 'boreratio', 'stroke',\n",
              "       'compressionratio', 'horsepower', 'peakrpm', 'citympg', 'highwaympg',\n",
              "       'price'],\n",
              "      dtype='object')"
            ]
          },
          "metadata": {
            "tags": []
          },
          "execution_count": 6
        }
      ]
    },
    {
      "cell_type": "markdown",
      "metadata": {
        "id": "zLDKN6toXJvw"
      },
      "source": [
        "Assign X and Y "
      ]
    },
    {
      "cell_type": "code",
      "metadata": {
        "id": "ZZIDVTg_XQIh",
        "outputId": "1c9cbf39-cbee-4092-c661-ab6f0e7ac2da",
        "colab": {
          "base_uri": "https://localhost:8080/"
        }
      },
      "source": [
        "X =car_data.iloc[:,:-1] # Access the value all columns except target i.e Price\n",
        "Y =car_data.iloc[:,-1:] # Access only Target column"
      ],
      "execution_count": null,
      "outputs": [
        {
          "output_type": "execute_result",
          "data": {
            "text/plain": [
              "Index(['price'], dtype='object')"
            ]
          },
          "metadata": {
            "tags": []
          },
          "execution_count": 8
        }
      ]
    },
    {
      "cell_type": "markdown",
      "metadata": {
        "id": "FF4LqlGKZkeQ"
      },
      "source": [
        "####5.Dealing Categorical Values"
      ]
    },
    {
      "cell_type": "code",
      "metadata": {
        "id": "WiwioflDZyDQ"
      },
      "source": [
        "print(X.dtypes==object)"
      ],
      "execution_count": null,
      "outputs": []
    },
    {
      "cell_type": "markdown",
      "metadata": {
        "id": "hZWzqTqra0io"
      },
      "source": [
        ""
      ]
    }
  ]
}